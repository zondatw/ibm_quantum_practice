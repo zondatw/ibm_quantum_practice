{
 "cells": [
  {
   "cell_type": "code",
   "execution_count": 5,
   "id": "6a460d25-1c9b-45e7-8897-64d303a90cfc",
   "metadata": {},
   "outputs": [
    {
     "name": "stdout",
     "output_type": "stream",
     "text": [
      "job_result: PrimitiveResult([PubResult(data=DataBin(evs=np.ndarray(<shape=(6,), dtype=float64>), stds=np.ndarray(<shape=(6,), dtype=float64>), shape=(6,)), metadata={'target_precision': 0.015625, 'shots': 4096, 'circuit_metadata': {}})], metadata={'version': 2})\n",
      "pub_result: PubResult(data=DataBin(evs=np.ndarray(<shape=(6,), dtype=float64>), stds=np.ndarray(<shape=(6,), dtype=float64>), shape=(6,)), metadata={'target_precision': 0.015625, 'shots': 4096, 'circuit_metadata': {}})\n"
     ]
    }
   ],
   "source": [
    "from qiskit import QuantumCircuit\n",
    "from qiskit.quantum_info import SparsePauliOp\n",
    "from qiskit.transpiler.preset_passmanagers import generate_preset_pass_manager\n",
    "from qiskit_ibm_runtime import EstimatorV2 as Estimator\n",
    " \n",
    "# Create a new circuit with two qubits\n",
    "qc = QuantumCircuit(2)\n",
    " \n",
    "# Add a Hadamard gate to qubit 0\n",
    "qc.h(0)\n",
    " \n",
    "# Perform a controlled-X gate on qubit 1, controlled by qubit 0\n",
    "qc.cx(0, 1)\n",
    "\n",
    "# Set up six different observables.\n",
    " \n",
    "observables_labels = [\"IZ\", \"IX\", \"ZI\", \"XI\", \"ZZ\", \"XX\"]\n",
    "observables = [SparsePauliOp(label) for label in observables_labels]\n",
    " \n",
    "mapped_observables = [\n",
    "    observable.apply_layout(isa_circuit.layout) for observable in observables\n",
    "]\n",
    "\n",
    "from qiskit_ibm_runtime.fake_provider import FakeAlmadenV2\n",
    "backend = FakeAlmadenV2()\n",
    "estimator = Estimator(backend)\n",
    " \n",
    "# Convert to an ISA circuit and layout-mapped observables.\n",
    " \n",
    "pm = generate_preset_pass_manager(backend=backend, optimization_level=1)\n",
    "isa_circuit = pm.run(qc)\n",
    "isa_circuit.draw(\"mpl\", idle_wires=False)\n",
    " \n",
    "job = estimator.run([(isa_circuit, mapped_observables)])\n",
    "result = job.result()\n",
    " \n",
    "# This is the result of the entire submission.  You submitted one Pub,\n",
    "# so this contains one inner result (and some metadata of its own).\n",
    " \n",
    "job_result = job.result()\n",
    " \n",
    "# This is the result from our single pub, which had five observables,\n",
    "# so contains information on all five.\n",
    " \n",
    "pub_result = job.result()[0]\n",
    "\n",
    "\n",
    "print(f\"job_result: {job_result}\")\n",
    "print(f\"pub_result: {pub_result}\")"
   ]
  },
  {
   "cell_type": "code",
   "execution_count": null,
   "id": "359cff03-ca93-4779-881b-a407f9263593",
   "metadata": {},
   "outputs": [],
   "source": []
  }
 ],
 "metadata": {
  "kernelspec": {
   "display_name": "Python 3 (ipykernel)",
   "language": "python",
   "name": "python3"
  },
  "language_info": {
   "codemirror_mode": {
    "name": "ipython",
    "version": 3
   },
   "file_extension": ".py",
   "mimetype": "text/x-python",
   "name": "python",
   "nbconvert_exporter": "python",
   "pygments_lexer": "ipython3",
   "version": "3.12.4"
  }
 },
 "nbformat": 4,
 "nbformat_minor": 5
}
