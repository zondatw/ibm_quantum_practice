{
 "cells": [
  {
   "cell_type": "code",
   "execution_count": 1,
   "id": "03b09aa5-0fe5-461c-a4a3-586df2e37f61",
   "metadata": {},
   "outputs": [
    {
     "data": {
      "image/png": "[encoded data removed]",
      "text/plain": [
       "<Figure size 287.294x200.667 with 1 Axes>"
      ]
     },
     "execution_count": 1,
     "metadata": {},
     "output_type": "execute_result"
    }
   ],
   "source": [
    "from qiskit import QuantumCircuit\n",
    "from qiskit.quantum_info import SparsePauliOp\n",
    "from qiskit.transpiler.preset_passmanagers import generate_preset_pass_manager\n",
    "from qiskit_ibm_runtime import EstimatorV2 as Estimator\n",
    " \n",
    "# Create a new circuit with two qubits\n",
    "qc = QuantumCircuit(2)\n",
    " \n",
    "# Add a Hadamard gate to qubit 0\n",
    "qc.h(0)\n",
    " \n",
    "# Perform a controlled-X gate on qubit 1, controlled by qubit 0\n",
    "qc.cx(0, 1)\n",
    " \n",
    "# Return a drawing of the circuit using MatPlotLib (\"mpl\"). This is the\n",
    "# last line of the cell, so the drawing appears in the cell output.\n",
    "# Remove the \"mpl\" argument to get a text drawing.\n",
    "qc.draw(\"mpl\")"
   ]
  },
  {
   "cell_type": "code",
   "execution_count": 13,
   "id": "9227b503-a150-41ba-b8e2-1fdc1e31ea81",
   "metadata": {},
   "outputs": [],
   "source": [
    "from dotenv import load_dotenv\n",
    "import os\n",
    "\n",
    "# Load the .env file\n",
    "load_dotenv()\n",
    "\n",
    "IBM_QUANTUM_PLATFORM_API_TOKEN = os.getenv('IBM_QUANTUM_PLATFORM_API_TOKEN')\n",
    "\n",
    "from qiskit_ibm_runtime import QiskitRuntimeService\n",
    " \n",
    "QiskitRuntimeService.save_account(\n",
    "  token=IBM_QUANTUM_PLATFORM_API_TOKEN,\n",
    "  channel=\"ibm_quantum\" # `channel` distinguishes between different account types\n",
    ")"
   ]
  },
  {
   "cell_type": "code",
   "execution_count": 19,
   "id": "937f73df-9c35-435e-b7c4-07e6a659740a",
   "metadata": {},
   "outputs": [
    {
     "data": {
      "image/png": "[encoded data removed]",
      "text/plain": [
       "<Figure size 590.608x200.667 with 1 Axes>"
      ]
     },
     "execution_count": 19,
     "metadata": {},
     "output_type": "execute_result"
    }
   ],
   "source": [
    "from qiskit import QuantumCircuit\n",
    "from qiskit.quantum_info import SparsePauliOp\n",
    "from qiskit.transpiler.preset_passmanagers import generate_preset_pass_manager\n",
    "from qiskit_ibm_runtime import EstimatorV2 as Estimator\n",
    " \n",
    "# Create a new circuit with two qubits\n",
    "qc = QuantumCircuit(2)\n",
    " \n",
    "# Add a Hadamard gate to qubit 0\n",
    "qc.h(0)\n",
    " \n",
    "# Perform a controlled-X gate on qubit 1, controlled by qubit 0\n",
    "qc.cx(0, 1)\n",
    "# If you have not previously saved your credentials, follow instructions at\n",
    "# https://docs.quantum.ibm.com/guides/setup-channel#iqp\n",
    "# to authenticate with your API token.\n",
    "service = QiskitRuntimeService()\n",
    " \n",
    "backend = service.least_busy(simulator=False, operational=True)\n",
    " \n",
    "# Convert to an ISA circuit and layout-mapped observables.\n",
    "pm = generate_preset_pass_manager(backend=backend, optimization_level=1)\n",
    "isa_circuit = pm.run(qc)\n",
    " \n",
    "isa_circuit.draw(\"mpl\", idle_wires=False)"
   ]
  },
  {
   "cell_type": "code",
   "execution_count": 22,
   "id": "c2435963-e20a-4c01-8e42-2218acdcd2ec",
   "metadata": {},
   "outputs": [
    {
     "name": "stdout",
     "output_type": "stream",
     "text": [
      ">>> Job ID: cy1yzrz01rbg008htc2g\n"
     ]
    }
   ],
   "source": [
    "from qiskit import QuantumCircuit\n",
    "from qiskit.quantum_info import SparsePauliOp\n",
    "from qiskit.transpiler.preset_passmanagers import generate_preset_pass_manager\n",
    "from qiskit_ibm_runtime import EstimatorV2 as Estimator\n",
    " \n",
    "# Create a new circuit with two qubits\n",
    "qc = QuantumCircuit(2)\n",
    " \n",
    "# Add a Hadamard gate to qubit 0\n",
    "qc.h(0)\n",
    " \n",
    "# Perform a controlled-X gate on qubit 1, controlled by qubit 0\n",
    "qc.cx(0, 1)\n",
    "# If you have not previously saved your credentials, follow instructions at\n",
    "# https://docs.quantum.ibm.com/guides/setup-channel#iqp\n",
    "# to authenticate with your API token.\n",
    "service = QiskitRuntimeService()\n",
    " \n",
    "backend = service.least_busy(simulator=False, operational=True)\n",
    " \n",
    "# Convert to an ISA circuit and layout-mapped observables.\n",
    "pm = generate_preset_pass_manager(backend=backend, optimization_level=1)\n",
    "isa_circuit = pm.run(qc)\n",
    " \n",
    "isa_circuit.draw(\"mpl\", idle_wires=False)\n",
    "\n",
    "# Set up six different observables.\n",
    " \n",
    "observables_labels = [\"IZ\", \"IX\", \"ZI\", \"XI\", \"ZZ\", \"XX\"]\n",
    "observables = [SparsePauliOp(label) for label in observables_labels]\n",
    "\n",
    "# Construct the Estimator instance.\n",
    " \n",
    "estimator = Estimator(mode=backend)\n",
    "estimator.options.resilience_level = 1\n",
    "estimator.options.default_shots = 5000\n",
    " \n",
    "mapped_observables = [\n",
    "    observable.apply_layout(isa_circuit.layout) for observable in observables\n",
    "]\n",
    " \n",
    "# One pub, with one circuit to run against five different observables.\n",
    "job = estimator.run([(isa_circuit, mapped_observables)])\n",
    " \n",
    "# Use the job ID to retrieve your job data later\n",
    "print(f\">>> Job ID: {job.job_id()}\")\n",
    "\n",
    "# This is the result of the entire submission.  You submitted one Pub,\n",
    "# so this contains one inner result (and some metadata of its own).\n",
    "job_result = job.result()\n",
    " \n",
    "# This is the result from our single pub, which had six observables,\n",
    "# so contains information on all six.\n",
    "pub_result = job.result()[0]"
   ]
  },
  {
   "cell_type": "code",
   "execution_count": 26,
   "id": "13104a07-aa59-47ab-a866-6d5723913f89",
   "metadata": {},
   "outputs": [
    {
     "name": "stdout",
     "output_type": "stream",
     "text": [
      "Expectation values for pub 0: [-0.00483198 -0.00790687 -0.00193655 -0.01113515  1.05013625  1.06832506]\n",
      "job_result: PrimitiveResult([PubResult(data=DataBin(evs=np.ndarray(<shape=(6,), dtype=float64>), stds=np.ndarray(<shape=(6,), dtype=float64>), ensemble_standard_error=np.ndarray(<shape=(6,), dtype=float64>), shape=(6,)), metadata={'shots': 5024, 'target_precision': 0.01414213562373095, 'circuit_metadata': {}, 'resilience': {}, 'num_randomizations': 32})], metadata={'dynamical_decoupling': {'enable': False, 'sequence_type': 'XX', 'extra_slack_distribution': 'middle', 'scheduling_method': 'alap'}, 'twirling': {'enable_gates': False, 'enable_measure': True, 'num_randomizations': 'auto', 'shots_per_randomization': 'auto', 'interleave_randomizations': True, 'strategy': 'active-accum'}, 'resilience': {'measure_mitigation': True, 'zne_mitigation': False, 'pec_mitigation': False}, 'version': 2})\n",
      "pub_result: PubResult(data=DataBin(evs=np.ndarray(<shape=(6,), dtype=float64>), stds=np.ndarray(<shape=(6,), dtype=float64>), ensemble_standard_error=np.ndarray(<shape=(6,), dtype=float64>), shape=(6,)), metadata={'shots': 5024, 'target_precision': 0.01414213562373095, 'circuit_metadata': {}, 'resilience': {}, 'num_randomizations': 32})\n"
     ]
    }
   ],
   "source": [
    "job = service.job('cy1yzrz01rbg008htc2g')\n",
    "job_result = job.result()\n",
    "\n",
    "for idx, pub_result in enumerate(job_result):\n",
    "    print(f\"Expectation values for pub {idx}: {pub_result.data.evs}\")\n",
    "    \n",
    "# This is the result of the entire submission.  You submitted one Pub,\n",
    "# so this contains one inner result (and some metadata of its own).\n",
    "job_result = job.result()\n",
    " \n",
    "# This is the result from our single pub, which had six observables,\n",
    "# so contains information on all six.\n",
    "pub_result = job.result()[0]\n",
    "\n",
    "print(f\"job_result: {job_result}\")\n",
    "print(f\"pub_result: {pub_result}\")"
   ]
  }
 ],
 "metadata": {
  "kernelspec": {
   "display_name": "Python 3 (ipykernel)",
   "language": "python",
   "name": "python3"
  },
  "language_info": {
   "codemirror_mode": {
    "name": "ipython",
    "version": 3
   },
   "file_extension": ".py",
   "mimetype": "text/x-python",
   "name": "python",
   "nbconvert_exporter": "python",
   "pygments_lexer": "ipython3",
   "version": "3.12.4"
  }
 },
 "nbformat": 4,
 "nbformat_minor": 5
}
